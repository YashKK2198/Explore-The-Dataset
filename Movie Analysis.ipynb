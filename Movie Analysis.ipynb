{
 "cells": [  
  {
   "cell_type": "markdown",
   "metadata": {},
   "source": [
    "Introduction\n",
    "The primary goal of the project is to go through the general data analysis process — using basic data analysis technique with NumPy, pandas, and Matplotlib.\n",
    "I have been give data of movies from year 1966 to 2015 !\n",
    "It collects 5000+ movies basic move information and movie matrices, including user ratings, popularity and revenue data. These metrics can be seen as how successful these movies are. The movie basic information contained like cast, director, keywords, runtime, genres, etc.\n"
   ]
  },
  {
   "cell_type": "markdown",
   "metadata": {},
   "source": [
    "Questions that are taken into account are :\n",
    "\n",
    "\n",
    "Question 1: Popularity Over Years\n",
    "\n",
    "Question 2: Number of movie released year by year\n",
    "\n",
    "Question 3: Show the variation of popularity in genre Comedy ?\n"
   ]
  },
  {
   "cell_type": "code",
   "execution_count": 1,
   "metadata": {},
   "outputs": [],
   "source": [
    "import pandas as pd\n",
    "import numpy as np\n",
    "import matplotlib.pyplot as plt\n",
    "import seaborn as sns\n",
    "from collections import Counter\n",
    "% matplotlib inline"
   ]
  },
  {
   "cell_type": "code",
   "execution_count": 2,
   "metadata": {},
   "outputs": [
    {
     "data": {
      "text/html": [
       "<div>\n",
       "<style scoped>\n",
       "    .dataframe tbody tr th:only-of-type {\n",
       "        vertical-align: middle;\n",
       "    }\n",
       "\n",
       "    .dataframe tbody tr th {\n",
       "        vertical-align: top;\n",
       "    }\n",
       "\n",
       "    .dataframe thead th {\n",
       "        text-align: right;\n",
       "    }\n",
       "</style>\n",
       "<table border=\"1\" class=\"dataframe\">\n",
       "  <thead>\n",
       "    <tr style=\"text-align: right;\">\n",
       "      <th></th>\n",
       "      <th>id</th>\n",
       "      <th>imdb_id</th>\n",
       "      <th>popularity</th>\n",
       "      <th>budget</th>\n",
       "      <th>revenue</th>\n",
       "      <th>original_title</th>\n",
       "      <th>cast</th>\n",
       "      <th>homepage</th>\n",
       "      <th>director</th>\n",
       "      <th>tagline</th>\n",
       "      <th>...</th>\n",
       "      <th>overview</th>\n",
       "      <th>runtime</th>\n",
       "      <th>genres</th>\n",
       "      <th>production_companies</th>\n",
       "      <th>release_date</th>\n",
       "      <th>vote_count</th>\n",
       "      <th>vote_average</th>\n",
       "      <th>release_year</th>\n",
       "      <th>budget_adj</th>\n",
       "      <th>revenue_adj</th>\n",
       "    </tr>\n",
       "  </thead>\n",
       "  <tbody>\n",
       "    <tr>\n",
       "      <th>0</th>\n",
       "      <td>135397</td>\n",
       "      <td>tt0369610</td>\n",
       "      <td>32.985763</td>\n",
       "      <td>150000000</td>\n",
       "      <td>1513528810</td>\n",
       "      <td>Jurassic World</td>\n",
       "      <td>Chris Pratt|Bryce Dallas Howard|Irrfan Khan|Vi...</td>\n",
       "      <td>http://www.jurassicworld.com/</td>\n",
       "      <td>Colin Trevorrow</td>\n",
       "      <td>The park is open.</td>\n",
       "      <td>...</td>\n",
       "      <td>Twenty-two years after the events of Jurassic ...</td>\n",
       "      <td>124</td>\n",
       "      <td>Action|Adventure|Science Fiction|Thriller</td>\n",
       "      <td>Universal Studios|Amblin Entertainment|Legenda...</td>\n",
       "      <td>6/9/15</td>\n",
       "      <td>5562</td>\n",
       "      <td>6.5</td>\n",
       "      <td>2015</td>\n",
       "      <td>1.379999e+08</td>\n",
       "      <td>1.392446e+09</td>\n",
       "    </tr>\n",
       "  </tbody>\n",
       "</table>\n",
       "<p>1 rows × 21 columns</p>\n",
       "</div>"
      ],
      "text/plain": [
       "       id    imdb_id  popularity     budget     revenue  original_title  \\\n",
       "0  135397  tt0369610   32.985763  150000000  1513528810  Jurassic World   \n",
       "\n",
       "                                                cast  \\\n",
       "0  Chris Pratt|Bryce Dallas Howard|Irrfan Khan|Vi...   \n",
       "\n",
       "                        homepage         director            tagline  \\\n",
       "0  http://www.jurassicworld.com/  Colin Trevorrow  The park is open.   \n",
       "\n",
       "       ...                                                overview runtime  \\\n",
       "0      ...       Twenty-two years after the events of Jurassic ...     124   \n",
       "\n",
       "                                      genres  \\\n",
       "0  Action|Adventure|Science Fiction|Thriller   \n",
       "\n",
       "                                production_companies release_date vote_count  \\\n",
       "0  Universal Studios|Amblin Entertainment|Legenda...       6/9/15       5562   \n",
       "\n",
       "   vote_average  release_year    budget_adj   revenue_adj  \n",
       "0           6.5          2015  1.379999e+08  1.392446e+09  \n",
       "\n",
       "[1 rows x 21 columns]"
      ]
     },
     "execution_count": 2,
     "metadata": {},
     "output_type": "execute_result"
    }
   ],
   "source": [
    "df = pd.read_csv('tmdb-movies.csv')\n",
    "df.head(1)"
   ]
  },
  {
   "cell_type": "code",
   "execution_count": 3,
   "metadata": {},
   "outputs": [
    {
     "name": "stdout",
     "output_type": "stream",
     "text": [
      "<class 'pandas.core.frame.DataFrame'>\n",
      "RangeIndex: 10866 entries, 0 to 10865\n",
      "Data columns (total 21 columns):\n",
      "id                      10866 non-null int64\n",
      "imdb_id                 10856 non-null object\n",
      "popularity              10866 non-null float64\n",
      "budget                  10866 non-null int64\n",
      "revenue                 10866 non-null int64\n",
      "original_title          10866 non-null object\n",
      "cast                    10790 non-null object\n",
      "homepage                2936 non-null object\n",
      "director                10822 non-null object\n",
      "tagline                 8042 non-null object\n",
      "keywords                9373 non-null object\n",
      "overview                10862 non-null object\n",
      "runtime                 10866 non-null int64\n",
      "genres                  10843 non-null object\n",
      "production_companies    9836 non-null object\n",
      "release_date            10866 non-null object\n",
      "vote_count              10866 non-null int64\n",
      "vote_average            10866 non-null float64\n",
      "release_year            10866 non-null int64\n",
      "budget_adj              10866 non-null float64\n",
      "revenue_adj             10866 non-null float64\n",
      "dtypes: float64(4), int64(6), object(11)\n",
      "memory usage: 1.7+ MB\n"
     ]
    }
   ],
   "source": [
    "# only column info\n",
    "df.info()\n"
   ]
  },
  {
   "cell_type": "code",
   "execution_count": 4,
   "metadata": {},
   "outputs": [
    {
     "data": {
      "text/html": [
       "<div>\n",
       "<style scoped>\n",
       "    .dataframe tbody tr th:only-of-type {\n",
       "        vertical-align: middle;\n",
       "    }\n",
       "\n",
       "    .dataframe tbody tr th {\n",
       "        vertical-align: top;\n",
       "    }\n",
       "\n",
       "    .dataframe thead th {\n",
       "        text-align: right;\n",
       "    }\n",
       "</style>\n",
       "<table border=\"1\" class=\"dataframe\">\n",
       "  <thead>\n",
       "    <tr style=\"text-align: right;\">\n",
       "      <th></th>\n",
       "      <th>id</th>\n",
       "      <th>popularity</th>\n",
       "      <th>budget</th>\n",
       "      <th>revenue</th>\n",
       "      <th>runtime</th>\n",
       "      <th>vote_count</th>\n",
       "      <th>vote_average</th>\n",
       "      <th>release_year</th>\n",
       "      <th>budget_adj</th>\n",
       "      <th>revenue_adj</th>\n",
       "    </tr>\n",
       "  </thead>\n",
       "  <tbody>\n",
       "    <tr>\n",
       "      <th>count</th>\n",
       "      <td>10866.000000</td>\n",
       "      <td>10866.000000</td>\n",
       "      <td>1.086600e+04</td>\n",
       "      <td>1.086600e+04</td>\n",
       "      <td>10866.000000</td>\n",
       "      <td>10866.000000</td>\n",
       "      <td>10866.000000</td>\n",
       "      <td>10866.000000</td>\n",
       "      <td>1.086600e+04</td>\n",
       "      <td>1.086600e+04</td>\n",
       "    </tr>\n",
       "    <tr>\n",
       "      <th>mean</th>\n",
       "      <td>66064.177434</td>\n",
       "      <td>0.646441</td>\n",
       "      <td>1.462570e+07</td>\n",
       "      <td>3.982332e+07</td>\n",
       "      <td>102.070863</td>\n",
       "      <td>217.389748</td>\n",
       "      <td>5.974922</td>\n",
       "      <td>2001.322658</td>\n",
       "      <td>1.755104e+07</td>\n",
       "      <td>5.136436e+07</td>\n",
       "    </tr>\n",
       "    <tr>\n",
       "      <th>std</th>\n",
       "      <td>92130.136561</td>\n",
       "      <td>1.000185</td>\n",
       "      <td>3.091321e+07</td>\n",
       "      <td>1.170035e+08</td>\n",
       "      <td>31.381405</td>\n",
       "      <td>575.619058</td>\n",
       "      <td>0.935142</td>\n",
       "      <td>12.812941</td>\n",
       "      <td>3.430616e+07</td>\n",
       "      <td>1.446325e+08</td>\n",
       "    </tr>\n",
       "    <tr>\n",
       "      <th>min</th>\n",
       "      <td>5.000000</td>\n",
       "      <td>0.000065</td>\n",
       "      <td>0.000000e+00</td>\n",
       "      <td>0.000000e+00</td>\n",
       "      <td>0.000000</td>\n",
       "      <td>10.000000</td>\n",
       "      <td>1.500000</td>\n",
       "      <td>1960.000000</td>\n",
       "      <td>0.000000e+00</td>\n",
       "      <td>0.000000e+00</td>\n",
       "    </tr>\n",
       "    <tr>\n",
       "      <th>25%</th>\n",
       "      <td>10596.250000</td>\n",
       "      <td>0.207583</td>\n",
       "      <td>0.000000e+00</td>\n",
       "      <td>0.000000e+00</td>\n",
       "      <td>90.000000</td>\n",
       "      <td>17.000000</td>\n",
       "      <td>5.400000</td>\n",
       "      <td>1995.000000</td>\n",
       "      <td>0.000000e+00</td>\n",
       "      <td>0.000000e+00</td>\n",
       "    </tr>\n",
       "    <tr>\n",
       "      <th>50%</th>\n",
       "      <td>20669.000000</td>\n",
       "      <td>0.383856</td>\n",
       "      <td>0.000000e+00</td>\n",
       "      <td>0.000000e+00</td>\n",
       "      <td>99.000000</td>\n",
       "      <td>38.000000</td>\n",
       "      <td>6.000000</td>\n",
       "      <td>2006.000000</td>\n",
       "      <td>0.000000e+00</td>\n",
       "      <td>0.000000e+00</td>\n",
       "    </tr>\n",
       "    <tr>\n",
       "      <th>75%</th>\n",
       "      <td>75610.000000</td>\n",
       "      <td>0.713817</td>\n",
       "      <td>1.500000e+07</td>\n",
       "      <td>2.400000e+07</td>\n",
       "      <td>111.000000</td>\n",
       "      <td>145.750000</td>\n",
       "      <td>6.600000</td>\n",
       "      <td>2011.000000</td>\n",
       "      <td>2.085325e+07</td>\n",
       "      <td>3.369710e+07</td>\n",
       "    </tr>\n",
       "    <tr>\n",
       "      <th>max</th>\n",
       "      <td>417859.000000</td>\n",
       "      <td>32.985763</td>\n",
       "      <td>4.250000e+08</td>\n",
       "      <td>2.781506e+09</td>\n",
       "      <td>900.000000</td>\n",
       "      <td>9767.000000</td>\n",
       "      <td>9.200000</td>\n",
       "      <td>2015.000000</td>\n",
       "      <td>4.250000e+08</td>\n",
       "      <td>2.827124e+09</td>\n",
       "    </tr>\n",
       "  </tbody>\n",
       "</table>\n",
       "</div>"
      ],
      "text/plain": [
       "                  id    popularity        budget       revenue       runtime  \\\n",
       "count   10866.000000  10866.000000  1.086600e+04  1.086600e+04  10866.000000   \n",
       "mean    66064.177434      0.646441  1.462570e+07  3.982332e+07    102.070863   \n",
       "std     92130.136561      1.000185  3.091321e+07  1.170035e+08     31.381405   \n",
       "min         5.000000      0.000065  0.000000e+00  0.000000e+00      0.000000   \n",
       "25%     10596.250000      0.207583  0.000000e+00  0.000000e+00     90.000000   \n",
       "50%     20669.000000      0.383856  0.000000e+00  0.000000e+00     99.000000   \n",
       "75%     75610.000000      0.713817  1.500000e+07  2.400000e+07    111.000000   \n",
       "max    417859.000000     32.985763  4.250000e+08  2.781506e+09    900.000000   \n",
       "\n",
       "         vote_count  vote_average  release_year    budget_adj   revenue_adj  \n",
       "count  10866.000000  10866.000000  10866.000000  1.086600e+04  1.086600e+04  \n",
       "mean     217.389748      5.974922   2001.322658  1.755104e+07  5.136436e+07  \n",
       "std      575.619058      0.935142     12.812941  3.430616e+07  1.446325e+08  \n",
       "min       10.000000      1.500000   1960.000000  0.000000e+00  0.000000e+00  \n",
       "25%       17.000000      5.400000   1995.000000  0.000000e+00  0.000000e+00  \n",
       "50%       38.000000      6.000000   2006.000000  0.000000e+00  0.000000e+00  \n",
       "75%      145.750000      6.600000   2011.000000  2.085325e+07  3.369710e+07  \n",
       "max     9767.000000      9.200000   2015.000000  4.250000e+08  2.827124e+09  "
      ]
     },
     "execution_count": 4,
     "metadata": {},
     "output_type": "execute_result"
    }
   ],
   "source": [
    "#some descriptive statistics for a data set\n",
    "\n",
    "df.describe ()"
   ]
  },
  {
   "cell_type": "code",
   "execution_count": 5,
   "metadata": {},
   "outputs": [
    {
     "data": {
      "text/html": [
       "<div>\n",
       "<style scoped>\n",
       "    .dataframe tbody tr th:only-of-type {\n",
       "        vertical-align: middle;\n",
       "    }\n",
       "\n",
       "    .dataframe tbody tr th {\n",
       "        vertical-align: top;\n",
       "    }\n",
       "\n",
       "    .dataframe thead th {\n",
       "        text-align: right;\n",
       "    }\n",
       "</style>\n",
       "<table border=\"1\" class=\"dataframe\">\n",
       "  <thead>\n",
       "    <tr style=\"text-align: right;\">\n",
       "      <th></th>\n",
       "      <th>id</th>\n",
       "      <th>imdb_id</th>\n",
       "      <th>popularity</th>\n",
       "      <th>budget</th>\n",
       "      <th>revenue</th>\n",
       "      <th>original_title</th>\n",
       "      <th>cast</th>\n",
       "      <th>homepage</th>\n",
       "      <th>director</th>\n",
       "      <th>tagline</th>\n",
       "      <th>...</th>\n",
       "      <th>overview</th>\n",
       "      <th>runtime</th>\n",
       "      <th>genres</th>\n",
       "      <th>production_companies</th>\n",
       "      <th>release_date</th>\n",
       "      <th>vote_count</th>\n",
       "      <th>vote_average</th>\n",
       "      <th>release_year</th>\n",
       "      <th>budget_adj</th>\n",
       "      <th>revenue_adj</th>\n",
       "    </tr>\n",
       "  </thead>\n",
       "  <tbody>\n",
       "    <tr>\n",
       "      <th>30</th>\n",
       "      <td>280996</td>\n",
       "      <td>tt3168230</td>\n",
       "      <td>3.927333</td>\n",
       "      <td>0</td>\n",
       "      <td>29355203</td>\n",
       "      <td>Mr. Holmes</td>\n",
       "      <td>Ian McKellen|Milo Parker|Laura Linney|Hattie M...</td>\n",
       "      <td>http://www.mrholmesfilm.com/</td>\n",
       "      <td>Bill Condon</td>\n",
       "      <td>The man behind the myth</td>\n",
       "      <td>...</td>\n",
       "      <td>The story is set in 1947, following a long-ret...</td>\n",
       "      <td>103</td>\n",
       "      <td>Mystery|Drama</td>\n",
       "      <td>BBC Films|See-Saw Films|FilmNation Entertainme...</td>\n",
       "      <td>6/19/15</td>\n",
       "      <td>425</td>\n",
       "      <td>6.4</td>\n",
       "      <td>2015</td>\n",
       "      <td>0.0</td>\n",
       "      <td>2.700677e+07</td>\n",
       "    </tr>\n",
       "    <tr>\n",
       "      <th>36</th>\n",
       "      <td>339527</td>\n",
       "      <td>tt1291570</td>\n",
       "      <td>3.358321</td>\n",
       "      <td>0</td>\n",
       "      <td>22354572</td>\n",
       "      <td>Solace</td>\n",
       "      <td>Abbie Cornish|Jeffrey Dean Morgan|Colin Farrel...</td>\n",
       "      <td>NaN</td>\n",
       "      <td>Afonso Poyart</td>\n",
       "      <td>A serial killer who can see your future, a psy...</td>\n",
       "      <td>...</td>\n",
       "      <td>A psychic doctor, John Clancy, works with an F...</td>\n",
       "      <td>101</td>\n",
       "      <td>Crime|Drama|Mystery</td>\n",
       "      <td>Eden Rock Media|FilmNation Entertainment|Flynn...</td>\n",
       "      <td>9/3/15</td>\n",
       "      <td>474</td>\n",
       "      <td>6.2</td>\n",
       "      <td>2015</td>\n",
       "      <td>0.0</td>\n",
       "      <td>2.056620e+07</td>\n",
       "    </tr>\n",
       "    <tr>\n",
       "      <th>72</th>\n",
       "      <td>284289</td>\n",
       "      <td>tt2911668</td>\n",
       "      <td>2.272044</td>\n",
       "      <td>0</td>\n",
       "      <td>45895</td>\n",
       "      <td>Beyond the Reach</td>\n",
       "      <td>Michael Douglas|Jeremy Irvine|Hanna Mangan Law...</td>\n",
       "      <td>NaN</td>\n",
       "      <td>Jean-Baptiste LÃ©onetti</td>\n",
       "      <td>NaN</td>\n",
       "      <td>...</td>\n",
       "      <td>A high-rolling corporate shark and his impover...</td>\n",
       "      <td>95</td>\n",
       "      <td>Thriller</td>\n",
       "      <td>Furthur Films</td>\n",
       "      <td>4/17/15</td>\n",
       "      <td>81</td>\n",
       "      <td>5.5</td>\n",
       "      <td>2015</td>\n",
       "      <td>0.0</td>\n",
       "      <td>4.222338e+04</td>\n",
       "    </tr>\n",
       "  </tbody>\n",
       "</table>\n",
       "<p>3 rows × 21 columns</p>\n",
       "</div>"
      ],
      "text/plain": [
       "        id    imdb_id  popularity  budget   revenue    original_title  \\\n",
       "30  280996  tt3168230    3.927333       0  29355203        Mr. Holmes   \n",
       "36  339527  tt1291570    3.358321       0  22354572            Solace   \n",
       "72  284289  tt2911668    2.272044       0     45895  Beyond the Reach   \n",
       "\n",
       "                                                 cast  \\\n",
       "30  Ian McKellen|Milo Parker|Laura Linney|Hattie M...   \n",
       "36  Abbie Cornish|Jeffrey Dean Morgan|Colin Farrel...   \n",
       "72  Michael Douglas|Jeremy Irvine|Hanna Mangan Law...   \n",
       "\n",
       "                        homepage                 director  \\\n",
       "30  http://www.mrholmesfilm.com/              Bill Condon   \n",
       "36                           NaN            Afonso Poyart   \n",
       "72                           NaN  Jean-Baptiste LÃ©onetti   \n",
       "\n",
       "                                              tagline      ...       \\\n",
       "30                            The man behind the myth      ...        \n",
       "36  A serial killer who can see your future, a psy...      ...        \n",
       "72                                                NaN      ...        \n",
       "\n",
       "                                             overview runtime  \\\n",
       "30  The story is set in 1947, following a long-ret...     103   \n",
       "36  A psychic doctor, John Clancy, works with an F...     101   \n",
       "72  A high-rolling corporate shark and his impover...      95   \n",
       "\n",
       "                 genres                               production_companies  \\\n",
       "30        Mystery|Drama  BBC Films|See-Saw Films|FilmNation Entertainme...   \n",
       "36  Crime|Drama|Mystery  Eden Rock Media|FilmNation Entertainment|Flynn...   \n",
       "72             Thriller                                      Furthur Films   \n",
       "\n",
       "   release_date vote_count  vote_average  release_year  budget_adj  \\\n",
       "30      6/19/15        425           6.4          2015         0.0   \n",
       "36       9/3/15        474           6.2          2015         0.0   \n",
       "72      4/17/15         81           5.5          2015         0.0   \n",
       "\n",
       "     revenue_adj  \n",
       "30  2.700677e+07  \n",
       "36  2.056620e+07  \n",
       "72  4.222338e+04  \n",
       "\n",
       "[3 rows x 21 columns]"
      ]
     },
     "execution_count": 5,
     "metadata": {},
     "output_type": "execute_result"
    }
   ],
   "source": [
    "# Here I am filtering tohe random 3 movies whose budget is zero in the given csv file\n",
    "df_budget_zero = df.query('budget == 0')\n",
    "df_budget_zero.head(3)"
   ]
  },
  {
   "cell_type": "code",
   "execution_count": 6,
   "metadata": {},
   "outputs": [
    {
     "data": {
      "text/html": [
       "<div>\n",
       "<style scoped>\n",
       "    .dataframe tbody tr th:only-of-type {\n",
       "        vertical-align: middle;\n",
       "    }\n",
       "\n",
       "    .dataframe tbody tr th {\n",
       "        vertical-align: top;\n",
       "    }\n",
       "\n",
       "    .dataframe thead th {\n",
       "        text-align: right;\n",
       "    }\n",
       "</style>\n",
       "<table border=\"1\" class=\"dataframe\">\n",
       "  <thead>\n",
       "    <tr style=\"text-align: right;\">\n",
       "      <th></th>\n",
       "      <th>id</th>\n",
       "      <th>imdb_id</th>\n",
       "      <th>popularity</th>\n",
       "      <th>budget</th>\n",
       "      <th>revenue</th>\n",
       "      <th>original_title</th>\n",
       "      <th>cast</th>\n",
       "      <th>homepage</th>\n",
       "      <th>director</th>\n",
       "      <th>tagline</th>\n",
       "      <th>...</th>\n",
       "      <th>overview</th>\n",
       "      <th>runtime</th>\n",
       "      <th>genres</th>\n",
       "      <th>production_companies</th>\n",
       "      <th>release_date</th>\n",
       "      <th>vote_count</th>\n",
       "      <th>vote_average</th>\n",
       "      <th>release_year</th>\n",
       "      <th>budget_adj</th>\n",
       "      <th>revenue_adj</th>\n",
       "    </tr>\n",
       "  </thead>\n",
       "  <tbody>\n",
       "    <tr>\n",
       "      <th>48</th>\n",
       "      <td>265208</td>\n",
       "      <td>tt2231253</td>\n",
       "      <td>2.932340</td>\n",
       "      <td>30000000</td>\n",
       "      <td>0</td>\n",
       "      <td>Wild Card</td>\n",
       "      <td>Jason Statham|Michael Angarano|Milo Ventimigli...</td>\n",
       "      <td>NaN</td>\n",
       "      <td>Simon West</td>\n",
       "      <td>Never bet against a man with a killer hand.</td>\n",
       "      <td>...</td>\n",
       "      <td>When a Las Vegas bodyguard with lethal skills ...</td>\n",
       "      <td>92</td>\n",
       "      <td>Thriller|Crime|Drama</td>\n",
       "      <td>Current Entertainment|Lionsgate|Sierra / Affin...</td>\n",
       "      <td>1/14/15</td>\n",
       "      <td>481</td>\n",
       "      <td>5.3</td>\n",
       "      <td>2015</td>\n",
       "      <td>2.759999e+07</td>\n",
       "      <td>0.0</td>\n",
       "    </tr>\n",
       "    <tr>\n",
       "      <th>67</th>\n",
       "      <td>334074</td>\n",
       "      <td>tt3247714</td>\n",
       "      <td>2.331636</td>\n",
       "      <td>20000000</td>\n",
       "      <td>0</td>\n",
       "      <td>Survivor</td>\n",
       "      <td>Pierce Brosnan|Milla Jovovich|Dylan McDermott|...</td>\n",
       "      <td>http://survivormovie.com/</td>\n",
       "      <td>James McTeigue</td>\n",
       "      <td>His Next Target is Now Hunting Him</td>\n",
       "      <td>...</td>\n",
       "      <td>A Foreign Service Officer in London tries to p...</td>\n",
       "      <td>96</td>\n",
       "      <td>Crime|Thriller|Action</td>\n",
       "      <td>Nu Image Films|Winkler Films|Millennium Films|...</td>\n",
       "      <td>5/21/15</td>\n",
       "      <td>280</td>\n",
       "      <td>5.4</td>\n",
       "      <td>2015</td>\n",
       "      <td>1.839999e+07</td>\n",
       "      <td>0.0</td>\n",
       "    </tr>\n",
       "    <tr>\n",
       "      <th>74</th>\n",
       "      <td>347096</td>\n",
       "      <td>tt3478232</td>\n",
       "      <td>2.165433</td>\n",
       "      <td>0</td>\n",
       "      <td>0</td>\n",
       "      <td>Mythica: The Darkspore</td>\n",
       "      <td>Melanie Stone|Kevin Sorbo|Adam Johnson|Jake St...</td>\n",
       "      <td>http://www.mythicamovie.com/#!blank/wufvh</td>\n",
       "      <td>Anne K. Black</td>\n",
       "      <td>NaN</td>\n",
       "      <td>...</td>\n",
       "      <td>When Teelaâ€™s sister is murdered and a powerf...</td>\n",
       "      <td>108</td>\n",
       "      <td>Action|Adventure|Fantasy</td>\n",
       "      <td>Arrowstorm Entertainment</td>\n",
       "      <td>6/24/15</td>\n",
       "      <td>27</td>\n",
       "      <td>5.1</td>\n",
       "      <td>2015</td>\n",
       "      <td>0.000000e+00</td>\n",
       "      <td>0.0</td>\n",
       "    </tr>\n",
       "  </tbody>\n",
       "</table>\n",
       "<p>3 rows × 21 columns</p>\n",
       "</div>"
      ],
      "text/plain": [
       "        id    imdb_id  popularity    budget  revenue          original_title  \\\n",
       "48  265208  tt2231253    2.932340  30000000        0               Wild Card   \n",
       "67  334074  tt3247714    2.331636  20000000        0                Survivor   \n",
       "74  347096  tt3478232    2.165433         0        0  Mythica: The Darkspore   \n",
       "\n",
       "                                                 cast  \\\n",
       "48  Jason Statham|Michael Angarano|Milo Ventimigli...   \n",
       "67  Pierce Brosnan|Milla Jovovich|Dylan McDermott|...   \n",
       "74  Melanie Stone|Kevin Sorbo|Adam Johnson|Jake St...   \n",
       "\n",
       "                                     homepage        director  \\\n",
       "48                                        NaN      Simon West   \n",
       "67                  http://survivormovie.com/  James McTeigue   \n",
       "74  http://www.mythicamovie.com/#!blank/wufvh   Anne K. Black   \n",
       "\n",
       "                                        tagline     ...       \\\n",
       "48  Never bet against a man with a killer hand.     ...        \n",
       "67           His Next Target is Now Hunting Him     ...        \n",
       "74                                          NaN     ...        \n",
       "\n",
       "                                             overview runtime  \\\n",
       "48  When a Las Vegas bodyguard with lethal skills ...      92   \n",
       "67  A Foreign Service Officer in London tries to p...      96   \n",
       "74  When Teelaâ€™s sister is murdered and a powerf...     108   \n",
       "\n",
       "                      genres  \\\n",
       "48      Thriller|Crime|Drama   \n",
       "67     Crime|Thriller|Action   \n",
       "74  Action|Adventure|Fantasy   \n",
       "\n",
       "                                 production_companies release_date vote_count  \\\n",
       "48  Current Entertainment|Lionsgate|Sierra / Affin...      1/14/15        481   \n",
       "67  Nu Image Films|Winkler Films|Millennium Films|...      5/21/15        280   \n",
       "74                           Arrowstorm Entertainment      6/24/15         27   \n",
       "\n",
       "    vote_average  release_year    budget_adj  revenue_adj  \n",
       "48           5.3          2015  2.759999e+07          0.0  \n",
       "67           5.4          2015  1.839999e+07          0.0  \n",
       "74           5.1          2015  0.000000e+00          0.0  \n",
       "\n",
       "[3 rows x 21 columns]"
      ]
     },
     "execution_count": 6,
     "metadata": {},
     "output_type": "execute_result"
    }
   ],
   "source": [
    "\n",
    "#Similarly done for revenue = 0 data\n",
    "\n",
    "df_revenue_zero = df.query('revenue == 0')\n",
    "df_revenue_zero.head(3)"
   ]
  },
  {
   "cell_type": "code",
   "execution_count": 7,
   "metadata": {},
   "outputs": [
    {
     "data": {
      "text/plain": [
       "budget\n",
       "0    5696\n",
       "1       4\n",
       "Name: id, dtype: int64"
      ]
     },
     "execution_count": 7,
     "metadata": {},
     "output_type": "execute_result"
    }
   ],
   "source": [
    "# zero values od budget\n",
    "df_budget_0count =  df.groupby('budget').count()['id']\n",
    "df_budget_0count.head(2)\n",
    "\n"
   ]
  },
  {
   "cell_type": "code",
   "execution_count": 8,
   "metadata": {},
   "outputs": [
    {
     "data": {
      "text/plain": [
       "revenue\n",
       "0    6016\n",
       "2       2\n",
       "Name: id, dtype: int64"
      ]
     },
     "execution_count": 8,
     "metadata": {},
     "output_type": "execute_result"
    }
   ],
   "source": [
    "#zero values of revenue\n",
    "df_revenue_0count =  df.groupby('revenue').count()['id']\n",
    "df_revenue_0count.head(2)"
   ]
  },
  {
   "cell_type": "code",
   "execution_count": 9,
   "metadata": {},
   "outputs": [],
   "source": [
    "#delete duplicates\n",
    "df.drop_duplicates(inplace=True)"
   ]
  },
  {
   "cell_type": "markdown",
   "metadata": {},
   "source": [
    "DATA WRANGLING \n",
    "\n",
    " Categories\n",
    " "
   ]
  },
  {
   "cell_type": "code",
   "execution_count": 10,
   "metadata": {},
   "outputs": [
    {
     "name": "stdout",
     "output_type": "stream",
     "text": [
      "['Action', 'Adventure', 'Science Fiction', 'Thriller', 'Fantasy', 'Crime', 'Western', 'Drama', 'Family', 'Animation', 'Comedy', 'Mystery', 'Romance', 'War', 'History', 'Music', 'Horror', 'Documentary', 'TV Movie', 'nan', 'Foreign']\n"
     ]
    }
   ],
   "source": [
    "genre_details = list(map(str,(df['genres'])))\n",
    "genre = []\n",
    "for i in genre_details:\n",
    "    split_genre = list(map(str, i.split('|')))\n",
    "    for j in split_genre:\n",
    "        if j not in genre:\n",
    "            genre.append(j)\n",
    "# printing list of seperated genres.\n",
    "\n",
    "print(genre)"
   ]
  },
  {
   "cell_type": "code",
   "execution_count": 11,
   "metadata": {},
   "outputs": [
    {
     "name": "stdout",
     "output_type": "stream",
     "text": [
      "1960 2015\n"
     ]
    }
   ],
   "source": [
    "# minimum range value\n",
    "min_year = df['release_year'].min()\n",
    "# maximum range value\n",
    "max_year = df['release_year'].max()\n",
    "print(min_year, max_year)"
   ]
  },
  {
   "cell_type": "markdown",
   "metadata": {},
   "source": [
    "NUMBER OF MOVIES RELEASED IN THEIR RESPECTIVE YEARS !"
   ]
  },
  {
   "cell_type": "code",
   "execution_count": 12,
   "metadata": {},
   "outputs": [],
   "source": [
    "genre_df = pd.DataFrame(index = genre, columns = range(min_year, max_year + 1))\n",
    "# to fill not assigned values to zero\n",
    "genre_df = genre_df.fillna(value = 0)\n"
   ]
  },
  {
   "cell_type": "code",
   "execution_count": 13,
   "metadata": {
    "scrolled": true
   },
   "outputs": [
    {
     "data": {
      "text/html": [
       "<div>\n",
       "<style scoped>\n",
       "    .dataframe tbody tr th:only-of-type {\n",
       "        vertical-align: middle;\n",
       "    }\n",
       "\n",
       "    .dataframe tbody tr th {\n",
       "        vertical-align: top;\n",
       "    }\n",
       "\n",
       "    .dataframe thead th {\n",
       "        text-align: right;\n",
       "    }\n",
       "</style>\n",
       "<table border=\"1\" class=\"dataframe\">\n",
       "  <thead>\n",
       "    <tr style=\"text-align: right;\">\n",
       "      <th></th>\n",
       "      <th>1960</th>\n",
       "      <th>1961</th>\n",
       "      <th>1962</th>\n",
       "      <th>1963</th>\n",
       "      <th>1964</th>\n",
       "      <th>1965</th>\n",
       "      <th>1966</th>\n",
       "      <th>1967</th>\n",
       "      <th>1968</th>\n",
       "      <th>1969</th>\n",
       "      <th>...</th>\n",
       "      <th>2006</th>\n",
       "      <th>2007</th>\n",
       "      <th>2008</th>\n",
       "      <th>2009</th>\n",
       "      <th>2010</th>\n",
       "      <th>2011</th>\n",
       "      <th>2012</th>\n",
       "      <th>2013</th>\n",
       "      <th>2014</th>\n",
       "      <th>2015</th>\n",
       "    </tr>\n",
       "  </thead>\n",
       "  <tbody>\n",
       "    <tr>\n",
       "      <th>Action</th>\n",
       "      <td>8</td>\n",
       "      <td>7</td>\n",
       "      <td>8</td>\n",
       "      <td>4</td>\n",
       "      <td>5</td>\n",
       "      <td>9</td>\n",
       "      <td>14</td>\n",
       "      <td>7</td>\n",
       "      <td>6</td>\n",
       "      <td>10</td>\n",
       "      <td>...</td>\n",
       "      <td>80</td>\n",
       "      <td>95</td>\n",
       "      <td>99</td>\n",
       "      <td>108</td>\n",
       "      <td>107</td>\n",
       "      <td>115</td>\n",
       "      <td>99</td>\n",
       "      <td>121</td>\n",
       "      <td>129</td>\n",
       "      <td>107</td>\n",
       "    </tr>\n",
       "    <tr>\n",
       "      <th>Adventure</th>\n",
       "      <td>5</td>\n",
       "      <td>6</td>\n",
       "      <td>7</td>\n",
       "      <td>7</td>\n",
       "      <td>5</td>\n",
       "      <td>6</td>\n",
       "      <td>11</td>\n",
       "      <td>7</td>\n",
       "      <td>5</td>\n",
       "      <td>5</td>\n",
       "      <td>...</td>\n",
       "      <td>55</td>\n",
       "      <td>60</td>\n",
       "      <td>63</td>\n",
       "      <td>72</td>\n",
       "      <td>59</td>\n",
       "      <td>62</td>\n",
       "      <td>50</td>\n",
       "      <td>67</td>\n",
       "      <td>67</td>\n",
       "      <td>69</td>\n",
       "    </tr>\n",
       "    <tr>\n",
       "      <th>Science Fiction</th>\n",
       "      <td>3</td>\n",
       "      <td>4</td>\n",
       "      <td>2</td>\n",
       "      <td>2</td>\n",
       "      <td>4</td>\n",
       "      <td>2</td>\n",
       "      <td>6</td>\n",
       "      <td>4</td>\n",
       "      <td>4</td>\n",
       "      <td>3</td>\n",
       "      <td>...</td>\n",
       "      <td>30</td>\n",
       "      <td>41</td>\n",
       "      <td>52</td>\n",
       "      <td>71</td>\n",
       "      <td>45</td>\n",
       "      <td>56</td>\n",
       "      <td>54</td>\n",
       "      <td>61</td>\n",
       "      <td>62</td>\n",
       "      <td>86</td>\n",
       "    </tr>\n",
       "    <tr>\n",
       "      <th>Thriller</th>\n",
       "      <td>6</td>\n",
       "      <td>0</td>\n",
       "      <td>7</td>\n",
       "      <td>10</td>\n",
       "      <td>9</td>\n",
       "      <td>11</td>\n",
       "      <td>8</td>\n",
       "      <td>5</td>\n",
       "      <td>5</td>\n",
       "      <td>3</td>\n",
       "      <td>...</td>\n",
       "      <td>114</td>\n",
       "      <td>125</td>\n",
       "      <td>127</td>\n",
       "      <td>157</td>\n",
       "      <td>134</td>\n",
       "      <td>146</td>\n",
       "      <td>160</td>\n",
       "      <td>175</td>\n",
       "      <td>179</td>\n",
       "      <td>171</td>\n",
       "    </tr>\n",
       "    <tr>\n",
       "      <th>Fantasy</th>\n",
       "      <td>2</td>\n",
       "      <td>2</td>\n",
       "      <td>1</td>\n",
       "      <td>2</td>\n",
       "      <td>4</td>\n",
       "      <td>0</td>\n",
       "      <td>2</td>\n",
       "      <td>3</td>\n",
       "      <td>5</td>\n",
       "      <td>2</td>\n",
       "      <td>...</td>\n",
       "      <td>34</td>\n",
       "      <td>47</td>\n",
       "      <td>43</td>\n",
       "      <td>49</td>\n",
       "      <td>44</td>\n",
       "      <td>46</td>\n",
       "      <td>34</td>\n",
       "      <td>39</td>\n",
       "      <td>36</td>\n",
       "      <td>33</td>\n",
       "    </tr>\n",
       "    <tr>\n",
       "      <th>Crime</th>\n",
       "      <td>2</td>\n",
       "      <td>2</td>\n",
       "      <td>3</td>\n",
       "      <td>4</td>\n",
       "      <td>10</td>\n",
       "      <td>2</td>\n",
       "      <td>5</td>\n",
       "      <td>7</td>\n",
       "      <td>5</td>\n",
       "      <td>3</td>\n",
       "      <td>...</td>\n",
       "      <td>53</td>\n",
       "      <td>65</td>\n",
       "      <td>62</td>\n",
       "      <td>52</td>\n",
       "      <td>50</td>\n",
       "      <td>48</td>\n",
       "      <td>54</td>\n",
       "      <td>71</td>\n",
       "      <td>65</td>\n",
       "      <td>51</td>\n",
       "    </tr>\n",
       "    <tr>\n",
       "      <th>Western</th>\n",
       "      <td>6</td>\n",
       "      <td>3</td>\n",
       "      <td>3</td>\n",
       "      <td>2</td>\n",
       "      <td>1</td>\n",
       "      <td>4</td>\n",
       "      <td>7</td>\n",
       "      <td>2</td>\n",
       "      <td>1</td>\n",
       "      <td>7</td>\n",
       "      <td>...</td>\n",
       "      <td>1</td>\n",
       "      <td>5</td>\n",
       "      <td>2</td>\n",
       "      <td>0</td>\n",
       "      <td>6</td>\n",
       "      <td>3</td>\n",
       "      <td>4</td>\n",
       "      <td>3</td>\n",
       "      <td>6</td>\n",
       "      <td>6</td>\n",
       "    </tr>\n",
       "    <tr>\n",
       "      <th>Drama</th>\n",
       "      <td>13</td>\n",
       "      <td>16</td>\n",
       "      <td>21</td>\n",
       "      <td>13</td>\n",
       "      <td>20</td>\n",
       "      <td>20</td>\n",
       "      <td>16</td>\n",
       "      <td>16</td>\n",
       "      <td>20</td>\n",
       "      <td>13</td>\n",
       "      <td>...</td>\n",
       "      <td>197</td>\n",
       "      <td>197</td>\n",
       "      <td>233</td>\n",
       "      <td>224</td>\n",
       "      <td>210</td>\n",
       "      <td>214</td>\n",
       "      <td>232</td>\n",
       "      <td>253</td>\n",
       "      <td>284</td>\n",
       "      <td>260</td>\n",
       "    </tr>\n",
       "    <tr>\n",
       "      <th>Family</th>\n",
       "      <td>3</td>\n",
       "      <td>5</td>\n",
       "      <td>2</td>\n",
       "      <td>3</td>\n",
       "      <td>4</td>\n",
       "      <td>3</td>\n",
       "      <td>7</td>\n",
       "      <td>3</td>\n",
       "      <td>5</td>\n",
       "      <td>4</td>\n",
       "      <td>...</td>\n",
       "      <td>65</td>\n",
       "      <td>45</td>\n",
       "      <td>56</td>\n",
       "      <td>60</td>\n",
       "      <td>55</td>\n",
       "      <td>72</td>\n",
       "      <td>42</td>\n",
       "      <td>48</td>\n",
       "      <td>43</td>\n",
       "      <td>44</td>\n",
       "    </tr>\n",
       "    <tr>\n",
       "      <th>Animation</th>\n",
       "      <td>0</td>\n",
       "      <td>1</td>\n",
       "      <td>0</td>\n",
       "      <td>1</td>\n",
       "      <td>2</td>\n",
       "      <td>1</td>\n",
       "      <td>3</td>\n",
       "      <td>2</td>\n",
       "      <td>3</td>\n",
       "      <td>3</td>\n",
       "      <td>...</td>\n",
       "      <td>39</td>\n",
       "      <td>32</td>\n",
       "      <td>33</td>\n",
       "      <td>48</td>\n",
       "      <td>50</td>\n",
       "      <td>46</td>\n",
       "      <td>40</td>\n",
       "      <td>42</td>\n",
       "      <td>36</td>\n",
       "      <td>39</td>\n",
       "    </tr>\n",
       "    <tr>\n",
       "      <th>Comedy</th>\n",
       "      <td>8</td>\n",
       "      <td>10</td>\n",
       "      <td>5</td>\n",
       "      <td>13</td>\n",
       "      <td>16</td>\n",
       "      <td>7</td>\n",
       "      <td>16</td>\n",
       "      <td>17</td>\n",
       "      <td>9</td>\n",
       "      <td>12</td>\n",
       "      <td>...</td>\n",
       "      <td>155</td>\n",
       "      <td>151</td>\n",
       "      <td>169</td>\n",
       "      <td>198</td>\n",
       "      <td>169</td>\n",
       "      <td>172</td>\n",
       "      <td>176</td>\n",
       "      <td>175</td>\n",
       "      <td>185</td>\n",
       "      <td>162</td>\n",
       "    </tr>\n",
       "    <tr>\n",
       "      <th>Mystery</th>\n",
       "      <td>0</td>\n",
       "      <td>1</td>\n",
       "      <td>4</td>\n",
       "      <td>6</td>\n",
       "      <td>4</td>\n",
       "      <td>3</td>\n",
       "      <td>6</td>\n",
       "      <td>3</td>\n",
       "      <td>4</td>\n",
       "      <td>1</td>\n",
       "      <td>...</td>\n",
       "      <td>30</td>\n",
       "      <td>34</td>\n",
       "      <td>29</td>\n",
       "      <td>51</td>\n",
       "      <td>32</td>\n",
       "      <td>38</td>\n",
       "      <td>33</td>\n",
       "      <td>38</td>\n",
       "      <td>36</td>\n",
       "      <td>42</td>\n",
       "    </tr>\n",
       "    <tr>\n",
       "      <th>Romance</th>\n",
       "      <td>6</td>\n",
       "      <td>7</td>\n",
       "      <td>5</td>\n",
       "      <td>8</td>\n",
       "      <td>9</td>\n",
       "      <td>5</td>\n",
       "      <td>6</td>\n",
       "      <td>11</td>\n",
       "      <td>6</td>\n",
       "      <td>4</td>\n",
       "      <td>...</td>\n",
       "      <td>70</td>\n",
       "      <td>74</td>\n",
       "      <td>84</td>\n",
       "      <td>83</td>\n",
       "      <td>85</td>\n",
       "      <td>75</td>\n",
       "      <td>79</td>\n",
       "      <td>65</td>\n",
       "      <td>84</td>\n",
       "      <td>57</td>\n",
       "    </tr>\n",
       "    <tr>\n",
       "      <th>War</th>\n",
       "      <td>2</td>\n",
       "      <td>2</td>\n",
       "      <td>3</td>\n",
       "      <td>1</td>\n",
       "      <td>3</td>\n",
       "      <td>8</td>\n",
       "      <td>4</td>\n",
       "      <td>1</td>\n",
       "      <td>4</td>\n",
       "      <td>3</td>\n",
       "      <td>...</td>\n",
       "      <td>7</td>\n",
       "      <td>6</td>\n",
       "      <td>18</td>\n",
       "      <td>12</td>\n",
       "      <td>7</td>\n",
       "      <td>9</td>\n",
       "      <td>10</td>\n",
       "      <td>7</td>\n",
       "      <td>23</td>\n",
       "      <td>9</td>\n",
       "    </tr>\n",
       "    <tr>\n",
       "      <th>History</th>\n",
       "      <td>5</td>\n",
       "      <td>3</td>\n",
       "      <td>4</td>\n",
       "      <td>4</td>\n",
       "      <td>3</td>\n",
       "      <td>4</td>\n",
       "      <td>2</td>\n",
       "      <td>0</td>\n",
       "      <td>3</td>\n",
       "      <td>3</td>\n",
       "      <td>...</td>\n",
       "      <td>12</td>\n",
       "      <td>13</td>\n",
       "      <td>24</td>\n",
       "      <td>16</td>\n",
       "      <td>14</td>\n",
       "      <td>8</td>\n",
       "      <td>13</td>\n",
       "      <td>14</td>\n",
       "      <td>15</td>\n",
       "      <td>15</td>\n",
       "    </tr>\n",
       "    <tr>\n",
       "      <th>Music</th>\n",
       "      <td>1</td>\n",
       "      <td>2</td>\n",
       "      <td>1</td>\n",
       "      <td>0</td>\n",
       "      <td>5</td>\n",
       "      <td>2</td>\n",
       "      <td>0</td>\n",
       "      <td>5</td>\n",
       "      <td>3</td>\n",
       "      <td>2</td>\n",
       "      <td>...</td>\n",
       "      <td>12</td>\n",
       "      <td>15</td>\n",
       "      <td>20</td>\n",
       "      <td>17</td>\n",
       "      <td>10</td>\n",
       "      <td>17</td>\n",
       "      <td>22</td>\n",
       "      <td>30</td>\n",
       "      <td>28</td>\n",
       "      <td>33</td>\n",
       "    </tr>\n",
       "    <tr>\n",
       "      <th>Horror</th>\n",
       "      <td>7</td>\n",
       "      <td>3</td>\n",
       "      <td>5</td>\n",
       "      <td>9</td>\n",
       "      <td>6</td>\n",
       "      <td>5</td>\n",
       "      <td>3</td>\n",
       "      <td>4</td>\n",
       "      <td>4</td>\n",
       "      <td>1</td>\n",
       "      <td>...</td>\n",
       "      <td>56</td>\n",
       "      <td>79</td>\n",
       "      <td>76</td>\n",
       "      <td>90</td>\n",
       "      <td>78</td>\n",
       "      <td>78</td>\n",
       "      <td>104</td>\n",
       "      <td>102</td>\n",
       "      <td>105</td>\n",
       "      <td>125</td>\n",
       "    </tr>\n",
       "    <tr>\n",
       "      <th>Documentary</th>\n",
       "      <td>0</td>\n",
       "      <td>0</td>\n",
       "      <td>0</td>\n",
       "      <td>0</td>\n",
       "      <td>0</td>\n",
       "      <td>0</td>\n",
       "      <td>1</td>\n",
       "      <td>1</td>\n",
       "      <td>0</td>\n",
       "      <td>0</td>\n",
       "      <td>...</td>\n",
       "      <td>16</td>\n",
       "      <td>19</td>\n",
       "      <td>26</td>\n",
       "      <td>25</td>\n",
       "      <td>35</td>\n",
       "      <td>49</td>\n",
       "      <td>49</td>\n",
       "      <td>62</td>\n",
       "      <td>73</td>\n",
       "      <td>57</td>\n",
       "    </tr>\n",
       "    <tr>\n",
       "      <th>TV Movie</th>\n",
       "      <td>0</td>\n",
       "      <td>0</td>\n",
       "      <td>0</td>\n",
       "      <td>0</td>\n",
       "      <td>0</td>\n",
       "      <td>1</td>\n",
       "      <td>0</td>\n",
       "      <td>0</td>\n",
       "      <td>0</td>\n",
       "      <td>1</td>\n",
       "      <td>...</td>\n",
       "      <td>8</td>\n",
       "      <td>6</td>\n",
       "      <td>5</td>\n",
       "      <td>8</td>\n",
       "      <td>8</td>\n",
       "      <td>10</td>\n",
       "      <td>14</td>\n",
       "      <td>10</td>\n",
       "      <td>14</td>\n",
       "      <td>20</td>\n",
       "    </tr>\n",
       "    <tr>\n",
       "      <th>nan</th>\n",
       "      <td>0</td>\n",
       "      <td>0</td>\n",
       "      <td>0</td>\n",
       "      <td>0</td>\n",
       "      <td>0</td>\n",
       "      <td>0</td>\n",
       "      <td>0</td>\n",
       "      <td>0</td>\n",
       "      <td>0</td>\n",
       "      <td>0</td>\n",
       "      <td>...</td>\n",
       "      <td>0</td>\n",
       "      <td>0</td>\n",
       "      <td>1</td>\n",
       "      <td>2</td>\n",
       "      <td>2</td>\n",
       "      <td>0</td>\n",
       "      <td>4</td>\n",
       "      <td>3</td>\n",
       "      <td>1</td>\n",
       "      <td>2</td>\n",
       "    </tr>\n",
       "    <tr>\n",
       "      <th>Foreign</th>\n",
       "      <td>1</td>\n",
       "      <td>1</td>\n",
       "      <td>1</td>\n",
       "      <td>2</td>\n",
       "      <td>1</td>\n",
       "      <td>1</td>\n",
       "      <td>2</td>\n",
       "      <td>0</td>\n",
       "      <td>0</td>\n",
       "      <td>0</td>\n",
       "      <td>...</td>\n",
       "      <td>10</td>\n",
       "      <td>17</td>\n",
       "      <td>18</td>\n",
       "      <td>17</td>\n",
       "      <td>13</td>\n",
       "      <td>14</td>\n",
       "      <td>6</td>\n",
       "      <td>0</td>\n",
       "      <td>0</td>\n",
       "      <td>0</td>\n",
       "    </tr>\n",
       "  </tbody>\n",
       "</table>\n",
       "<p>21 rows × 56 columns</p>\n",
       "</div>"
      ],
      "text/plain": [
       "                 1960  1961  1962  1963  1964  1965  1966  1967  1968  1969  \\\n",
       "Action              8     7     8     4     5     9    14     7     6    10   \n",
       "Adventure           5     6     7     7     5     6    11     7     5     5   \n",
       "Science Fiction     3     4     2     2     4     2     6     4     4     3   \n",
       "Thriller            6     0     7    10     9    11     8     5     5     3   \n",
       "Fantasy             2     2     1     2     4     0     2     3     5     2   \n",
       "Crime               2     2     3     4    10     2     5     7     5     3   \n",
       "Western             6     3     3     2     1     4     7     2     1     7   \n",
       "Drama              13    16    21    13    20    20    16    16    20    13   \n",
       "Family              3     5     2     3     4     3     7     3     5     4   \n",
       "Animation           0     1     0     1     2     1     3     2     3     3   \n",
       "Comedy              8    10     5    13    16     7    16    17     9    12   \n",
       "Mystery             0     1     4     6     4     3     6     3     4     1   \n",
       "Romance             6     7     5     8     9     5     6    11     6     4   \n",
       "War                 2     2     3     1     3     8     4     1     4     3   \n",
       "History             5     3     4     4     3     4     2     0     3     3   \n",
       "Music               1     2     1     0     5     2     0     5     3     2   \n",
       "Horror              7     3     5     9     6     5     3     4     4     1   \n",
       "Documentary         0     0     0     0     0     0     1     1     0     0   \n",
       "TV Movie            0     0     0     0     0     1     0     0     0     1   \n",
       "nan                 0     0     0     0     0     0     0     0     0     0   \n",
       "Foreign             1     1     1     2     1     1     2     0     0     0   \n",
       "\n",
       "                 ...   2006  2007  2008  2009  2010  2011  2012  2013  2014  \\\n",
       "Action           ...     80    95    99   108   107   115    99   121   129   \n",
       "Adventure        ...     55    60    63    72    59    62    50    67    67   \n",
       "Science Fiction  ...     30    41    52    71    45    56    54    61    62   \n",
       "Thriller         ...    114   125   127   157   134   146   160   175   179   \n",
       "Fantasy          ...     34    47    43    49    44    46    34    39    36   \n",
       "Crime            ...     53    65    62    52    50    48    54    71    65   \n",
       "Western          ...      1     5     2     0     6     3     4     3     6   \n",
       "Drama            ...    197   197   233   224   210   214   232   253   284   \n",
       "Family           ...     65    45    56    60    55    72    42    48    43   \n",
       "Animation        ...     39    32    33    48    50    46    40    42    36   \n",
       "Comedy           ...    155   151   169   198   169   172   176   175   185   \n",
       "Mystery          ...     30    34    29    51    32    38    33    38    36   \n",
       "Romance          ...     70    74    84    83    85    75    79    65    84   \n",
       "War              ...      7     6    18    12     7     9    10     7    23   \n",
       "History          ...     12    13    24    16    14     8    13    14    15   \n",
       "Music            ...     12    15    20    17    10    17    22    30    28   \n",
       "Horror           ...     56    79    76    90    78    78   104   102   105   \n",
       "Documentary      ...     16    19    26    25    35    49    49    62    73   \n",
       "TV Movie         ...      8     6     5     8     8    10    14    10    14   \n",
       "nan              ...      0     0     1     2     2     0     4     3     1   \n",
       "Foreign          ...     10    17    18    17    13    14     6     0     0   \n",
       "\n",
       "                 2015  \n",
       "Action            107  \n",
       "Adventure          69  \n",
       "Science Fiction    86  \n",
       "Thriller          171  \n",
       "Fantasy            33  \n",
       "Crime              51  \n",
       "Western             6  \n",
       "Drama             260  \n",
       "Family             44  \n",
       "Animation          39  \n",
       "Comedy            162  \n",
       "Mystery            42  \n",
       "Romance            57  \n",
       "War                 9  \n",
       "History            15  \n",
       "Music              33  \n",
       "Horror            125  \n",
       "Documentary        57  \n",
       "TV Movie           20  \n",
       "nan                 2  \n",
       "Foreign             0  \n",
       "\n",
       "[21 rows x 56 columns]"
      ]
     },
     "execution_count": 13,
     "metadata": {},
     "output_type": "execute_result"
    }
   ],
   "source": [
    "# list of years of each movie\n",
    "year = np.array(df['release_year'])\n",
    "# index to access year value\n",
    "z = 0\n",
    "for i in genre_details:\n",
    "    split_genre = list(map(str,i.split('|')))\n",
    "    for j in split_genre:\n",
    "        genre_df.loc[j, year[z]] = genre_df.loc[j, year[z]] + 1\n",
    "    z+=1\n",
    "genre_df"
   ]
  },
  {
   "cell_type": "markdown",
   "metadata": {},
   "source": [
    "\n",
    "\n",
    "\n",
    "Oldest And The Latest Movie Release Years !"
   ]
  },
  {
   "cell_type": "markdown",
   "metadata": {},
   "source": [
    "QUESTION 1 > POPULARITY OVER THE YEARS !\n",
    "\n",
    "Below is the popularity of the movies in latest five years"
   ]
  },
  {
   "cell_type": "code",
   "execution_count": 14,
   "metadata": {},
   "outputs": [
    {
     "data": {
      "text/html": [
       "<div>\n",
       "<style scoped>\n",
       "    .dataframe tbody tr th:only-of-type {\n",
       "        vertical-align: middle;\n",
       "    }\n",
       "\n",
       "    .dataframe tbody tr th {\n",
       "        vertical-align: top;\n",
       "    }\n",
       "\n",
       "    .dataframe thead th {\n",
       "        text-align: right;\n",
       "    }\n",
       "</style>\n",
       "<table border=\"1\" class=\"dataframe\">\n",
       "  <thead>\n",
       "    <tr style=\"text-align: right;\">\n",
       "      <th></th>\n",
       "      <th>id</th>\n",
       "      <th>imdb_id</th>\n",
       "      <th>popularity</th>\n",
       "      <th>budget</th>\n",
       "      <th>revenue</th>\n",
       "      <th>original_title</th>\n",
       "      <th>cast</th>\n",
       "      <th>homepage</th>\n",
       "      <th>director</th>\n",
       "      <th>tagline</th>\n",
       "      <th>...</th>\n",
       "      <th>overview</th>\n",
       "      <th>runtime</th>\n",
       "      <th>genres</th>\n",
       "      <th>production_companies</th>\n",
       "      <th>release_date</th>\n",
       "      <th>vote_count</th>\n",
       "      <th>vote_average</th>\n",
       "      <th>release_year</th>\n",
       "      <th>budget_adj</th>\n",
       "      <th>revenue_adj</th>\n",
       "    </tr>\n",
       "  </thead>\n",
       "  <tbody>\n",
       "    <tr>\n",
       "      <th>0</th>\n",
       "      <td>135397</td>\n",
       "      <td>tt0369610</td>\n",
       "      <td>32.985763</td>\n",
       "      <td>150000000</td>\n",
       "      <td>1513528810</td>\n",
       "      <td>Jurassic World</td>\n",
       "      <td>Chris Pratt|Bryce Dallas Howard|Irrfan Khan|Vi...</td>\n",
       "      <td>http://www.jurassicworld.com/</td>\n",
       "      <td>Colin Trevorrow</td>\n",
       "      <td>The park is open.</td>\n",
       "      <td>...</td>\n",
       "      <td>Twenty-two years after the events of Jurassic ...</td>\n",
       "      <td>124</td>\n",
       "      <td>Action|Adventure|Science Fiction|Thriller</td>\n",
       "      <td>Universal Studios|Amblin Entertainment|Legenda...</td>\n",
       "      <td>6/9/15</td>\n",
       "      <td>5562</td>\n",
       "      <td>6.5</td>\n",
       "      <td>2015</td>\n",
       "      <td>1.379999e+08</td>\n",
       "      <td>1.392446e+09</td>\n",
       "    </tr>\n",
       "    <tr>\n",
       "      <th>1</th>\n",
       "      <td>76341</td>\n",
       "      <td>tt1392190</td>\n",
       "      <td>28.419936</td>\n",
       "      <td>150000000</td>\n",
       "      <td>378436354</td>\n",
       "      <td>Mad Max: Fury Road</td>\n",
       "      <td>Tom Hardy|Charlize Theron|Hugh Keays-Byrne|Nic...</td>\n",
       "      <td>http://www.madmaxmovie.com/</td>\n",
       "      <td>George Miller</td>\n",
       "      <td>What a Lovely Day.</td>\n",
       "      <td>...</td>\n",
       "      <td>An apocalyptic story set in the furthest reach...</td>\n",
       "      <td>120</td>\n",
       "      <td>Action|Adventure|Science Fiction|Thriller</td>\n",
       "      <td>Village Roadshow Pictures|Kennedy Miller Produ...</td>\n",
       "      <td>5/13/15</td>\n",
       "      <td>6185</td>\n",
       "      <td>7.1</td>\n",
       "      <td>2015</td>\n",
       "      <td>1.379999e+08</td>\n",
       "      <td>3.481613e+08</td>\n",
       "    </tr>\n",
       "  </tbody>\n",
       "</table>\n",
       "<p>2 rows × 21 columns</p>\n",
       "</div>"
      ],
      "text/plain": [
       "       id    imdb_id  popularity     budget     revenue      original_title  \\\n",
       "0  135397  tt0369610   32.985763  150000000  1513528810      Jurassic World   \n",
       "1   76341  tt1392190   28.419936  150000000   378436354  Mad Max: Fury Road   \n",
       "\n",
       "                                                cast  \\\n",
       "0  Chris Pratt|Bryce Dallas Howard|Irrfan Khan|Vi...   \n",
       "1  Tom Hardy|Charlize Theron|Hugh Keays-Byrne|Nic...   \n",
       "\n",
       "                        homepage         director             tagline  \\\n",
       "0  http://www.jurassicworld.com/  Colin Trevorrow   The park is open.   \n",
       "1    http://www.madmaxmovie.com/    George Miller  What a Lovely Day.   \n",
       "\n",
       "       ...                                                overview runtime  \\\n",
       "0      ...       Twenty-two years after the events of Jurassic ...     124   \n",
       "1      ...       An apocalyptic story set in the furthest reach...     120   \n",
       "\n",
       "                                      genres  \\\n",
       "0  Action|Adventure|Science Fiction|Thriller   \n",
       "1  Action|Adventure|Science Fiction|Thriller   \n",
       "\n",
       "                                production_companies release_date vote_count  \\\n",
       "0  Universal Studios|Amblin Entertainment|Legenda...       6/9/15       5562   \n",
       "1  Village Roadshow Pictures|Kennedy Miller Produ...      5/13/15       6185   \n",
       "\n",
       "   vote_average  release_year    budget_adj   revenue_adj  \n",
       "0           6.5          2015  1.379999e+08  1.392446e+09  \n",
       "1           7.1          2015  1.379999e+08  3.481613e+08  \n",
       "\n",
       "[2 rows x 21 columns]"
      ]
     },
     "execution_count": 14,
     "metadata": {},
     "output_type": "execute_result"
    }
   ],
   "source": [
    "df.head(2)"
   ]
  },
  {
   "cell_type": "code",
   "execution_count": 15,
   "metadata": {},
   "outputs": [
    {
     "data": {
      "text/plain": [
       "release_year\n",
       "2011    0.418728\n",
       "2012    0.333248\n",
       "2013    0.347558\n",
       "2014    0.369884\n",
       "2015    0.394466\n",
       "Name: popularity, dtype: float64"
      ]
     },
     "execution_count": 15,
     "metadata": {},
     "output_type": "execute_result"
    }
   ],
   "source": [
    "p_median = df.groupby('release_year').median()['popularity']\n",
    "p_median.tail()"
   ]
  },
  {
   "cell_type": "code",
   "execution_count": 16,
   "metadata": {},
   "outputs": [
    {
     "data": {
      "text/plain": [
       "release_year\n",
       "2011    0.675069\n",
       "2012    0.607197\n",
       "2013    0.627627\n",
       "2014    0.887268\n",
       "2015    1.030657\n",
       "Name: popularity, dtype: float64"
      ]
     },
     "execution_count": 16,
     "metadata": {},
     "output_type": "execute_result"
    }
   ],
   "source": [
    "p_mean = df.groupby('release_year').mean()['popularity']\n",
    "p_mean.tail()"
   ]
  },
  {
   "cell_type": "code",
   "execution_count": 17,
   "metadata": {},
   "outputs": [],
   "source": [
    "index_mean = p_mean.index\n",
    "index_median = p_median.index"
   ]
  },
  {
   "cell_type": "code",
   "execution_count": 18,
   "metadata": {},
   "outputs": [
    {
     "data": {
      "text/plain": [
       "<matplotlib.legend.Legend at 0x1c527476320>"
      ]
     },
     "execution_count": 18,
     "metadata": {},
     "output_type": "execute_result"
    },
    {
     "data": {
      "image/png": "[encoded data removed]",
      "text/plain": [
       "<Figure size 1080x576 with 1 Axes>"
      ]
     },
     "metadata": {},
     "output_type": "display_data"
    }
   ],
   "source": [
    "\n",
    "sns.set_style('darkgrid')\n",
    "x1, y1 = index_mean, p_mean\n",
    "x2, y2 = index_median, p_median\n",
    "plt.figure(figsize=(15, 8))\n",
    "plt.scatter(x1, y1, color = 'b', label = 'mean')\n",
    "plt.scatter(x2, y2, color = 'r', label = 'median')\n",
    "plt.title('Popularity Over Years')\n",
    "plt.xlabel('Year')\n",
    "plt.ylabel('Popularity');\n",
    "plt.legend(loc='upper left')"
   ]
  },
  {
   "cell_type": "markdown",
   "metadata": {},
   "source": [
    "Here we can see the mean distribution is greater than the median . The median distribution is falling year by year.\n"
   ]
  },
  {
   "cell_type": "code",
   "execution_count": 19,
   "metadata": {},
   "outputs": [
    {
     "data": {
      "text/plain": [
       "<matplotlib.legend.Legend at 0x1c527769c88>"
      ]
     },
     "execution_count": 19,
     "metadata": {},
     "output_type": "execute_result"
    },
    {
     "data": {
      "image/png": "[encoded data removed]",
      "text/plain": [
       "<Figure size 648x288 with 1 Axes>"
      ]
     },
     "metadata": {},
     "output_type": "display_data"
    }
   ],
   "source": [
    "sns.set_style('ticks')\n",
    "x1, y1 = index_mean, p_mean\n",
    "x2, y2 = index_median, p_median\n",
    "plt.figure(figsize=(9, 4))\n",
    "plt.plot(x1, y1, color = 'b', label = 'mean')\n",
    "plt.plot(x2, y2, color = 'r', label = 'median')\n",
    "plt.title('Popularity Over Years')\n",
    "plt.xlabel('Year')\n",
    "plt.ylabel('Popularity');\n",
    "plt.legend(loc='upper left')"
   ]
  },
  {
   "cell_type": "markdown",
   "metadata": {},
   "source": [
    "ANSWER --> As we go from left to right the popularity of mean is upward and the highest it is in the year 2015. \n",
    " Inversely the popularity of median has decreased from left to right.This is because there are other sources available where we can the reviews watch online movies etc."
   ]
  },
  {
   "cell_type": "markdown",
   "metadata": {},
   "source": [
    "QUESTION 2--> Number of movie released year by year"
   ]
  },
  {
   "cell_type": "code",
   "execution_count": 20,
   "metadata": {},
   "outputs": [
    {
     "data": {
      "text/plain": [
       "release_year\n",
       "1960    32\n",
       "1961    31\n",
       "1962    32\n",
       "1963    34\n",
       "1964    42\n",
       "Name: id, dtype: int64"
      ]
     },
     "execution_count": 20,
     "metadata": {},
     "output_type": "execute_result"
    }
   ],
   "source": [
    "counter = df.groupby('release_year').count()['id']\n",
    "counter.head()"
   ]
  },
  {
   "cell_type": "code",
   "execution_count": 21,
   "metadata": {},
   "outputs": [
    {
     "data": {
      "image/png": "[encoded data removed]",
      "text/plain": [
       "<Figure size 720x360 with 1 Axes>"
      ]
     },
     "metadata": {},
     "output_type": "display_data"
    }
   ],
   "source": [
    "sns.set_style('white')\n",
    "x = counter.index\n",
    "y = counter\n",
    "plt.figure(figsize=(10, 5))\n",
    "plt.bar(x, y, color = 'g', label = 'mean')\n",
    "plt.title('Number of Movie Released year by year')\n",
    "plt.xlabel('Year')\n",
    "plt.ylabel('Frequency');"
   ]
  },
  {
   "cell_type": "markdown",
   "metadata": {},
   "source": [
    "ANSWER 2 --> We can see from the above bar diagram that the frequency of number of movies releasing is increasing increasing\n",
    "exponentially. As we can see the number of movies released in 1960 is least , from there the graph goes on increasing."
   ]
  },
  {
   "cell_type": "markdown",
   "metadata": {},
   "source": [
    "Properties are associated with movies that have high popularity?"
   ]
  },
  {
   "cell_type": "markdown",
   "metadata": {},
   "source": [
    "Question 3--> Budget level movie which are associated with movies that have high popularity?"
   ]
  },
  {
   "cell_type": "markdown",
   "metadata": {},
   "source": [
    "\n"
   ]
  },
  {
   "cell_type": "code",
   "execution_count": 22,
   "metadata": {},
   "outputs": [],
   "source": [
    "\n",
    "#dataframe with genre as index and years as columns to get a count of popularity\n",
    "\n",
    "\n",
    "popularity_df = pd.DataFrame(index = genre, columns = range(min_year, max_year + 1))\n",
    "# to fill not assigned values to zero\n",
    "popularity_df = popularity_df.fillna(value = 0.0)\n"
   ]
  },
  {
   "cell_type": "code",
   "execution_count": 23,
   "metadata": {},
   "outputs": [
    {
     "name": "stdout",
     "output_type": "stream",
     "text": [
      "0\n"
     ]
    }
   ],
   "source": [
    "#list of popularity levels of each movie\n",
    "\n",
    "popularity = np.array(df['popularity'])  #numpy\n",
    "# to check whether any popularity is zero.\n",
    "print (len(popularity[popularity==0]))\n",
    "# index to access year value\n",
    "z = 0\n",
    "for i in genre_details:\n",
    "    split_genre = list(map(str,i.split('|')))\n",
    "    for j in split_genre:\n",
    "            popularity_df.loc[j, year[z]] = popularity_df.loc[j, year[z]] + popularity[z]\n",
    "    z+=1\n"
   ]
  },
  {
   "cell_type": "code",
   "execution_count": 24,
   "metadata": {},
   "outputs": [],
   "source": [
    "#function to standardize the popularity of values in dataframe\n",
    "\n",
    "\n",
    "def standardize(p):\n",
    "    p_std = (p - p.mean()) / p.std(ddof = 0)\n",
    "    return p_std"
   ]
  },
  {
   "cell_type": "code",
   "execution_count": 25,
   "metadata": {},
   "outputs": [],
   "source": [
    "popularity_std = standardize(popularity_df)\n"
   ]
  },
  {
   "cell_type": "code",
   "execution_count": 26,
   "metadata": {},
   "outputs": [
    {
     "data": {
      "text/plain": [
       "1960   NaN\n",
       "1961   NaN\n",
       "1962   NaN\n",
       "1963   NaN\n",
       "1964   NaN\n",
       "dtype: float64"
      ]
     },
     "execution_count": 26,
     "metadata": {},
     "output_type": "execute_result"
    }
   ],
   "source": [
    "#series to hold the popular genre for every year\n",
    "sankya_genre = pd.Series(index = range(min_year, max_year + 1)) #pandas\n",
    "sankya_genre.head()"
   ]
  },
  {
   "cell_type": "code",
   "execution_count": 27,
   "metadata": {},
   "outputs": [
    {
     "name": "stderr",
     "output_type": "stream",
     "text": [
      "c:\\users\\user\\appdata\\local\\programs\\python\\python36\\lib\\site-packages\\ipykernel_launcher.py:3: FutureWarning: 'argmax' is deprecated, use 'idxmax' instead. The behavior of 'argmax'\n",
      "will be corrected to return the positional maximum in the future.\n",
      "Use 'series.values.argmax' to get the position of the maximum now.\n",
      "  This is separate from the ipykernel package so we can avoid doing imports until\n"
     ]
    },
    {
     "data": {
      "text/plain": [
       "1960        Drama\n",
       "1961        Drama\n",
       "1962        Drama\n",
       "1963     Thriller\n",
       "1964       Comedy\n",
       "1965        Drama\n",
       "1966        Drama\n",
       "1967        Drama\n",
       "1968        Drama\n",
       "1969        Drama\n",
       "1970        Drama\n",
       "1971        Drama\n",
       "1972        Drama\n",
       "1973        Drama\n",
       "1974        Drama\n",
       "1975        Drama\n",
       "1976        Drama\n",
       "1977    Adventure\n",
       "1978        Drama\n",
       "1979        Drama\n",
       "1980       Action\n",
       "1981    Adventure\n",
       "1982        Drama\n",
       "1983       Action\n",
       "1984       Action\n",
       "1985       Comedy\n",
       "1986        Drama\n",
       "1987       Comedy\n",
       "1988       Comedy\n",
       "1989       Comedy\n",
       "1990        Drama\n",
       "1991       Comedy\n",
       "1992       Comedy\n",
       "1993        Drama\n",
       "1994        Drama\n",
       "1995        Drama\n",
       "1996        Drama\n",
       "1997     Thriller\n",
       "1998        Drama\n",
       "1999        Drama\n",
       "2000       Comedy\n",
       "2001        Drama\n",
       "2002        Drama\n",
       "2003       Action\n",
       "2004       Comedy\n",
       "2005        Drama\n",
       "2006        Drama\n",
       "2007        Drama\n",
       "2008        Drama\n",
       "2009        Drama\n",
       "2010        Drama\n",
       "2011        Drama\n",
       "2012        Drama\n",
       "2013        Drama\n",
       "2014        Drama\n",
       "2015        Drama\n",
       "dtype: object"
      ]
     },
     "execution_count": 27,
     "metadata": {},
     "output_type": "execute_result"
    }
   ],
   "source": [
    "# Maximum standardized popularity value of genre\n",
    "for i in range(min_year, max_year + 1):\n",
    "    sankya_genre[i] = popularity_std[i].argmax()\n",
    "sankya_genre\n"
   ]
  },
  {
   "cell_type": "code",
   "execution_count": 28,
   "metadata": {},
   "outputs": [
    {
     "data": {
      "image/png": "[encoded data removed]",
      "text/plain": [
       "<Figure size 432x288 with 1 Axes>"
      ]
     },
     "metadata": {},
     "output_type": "display_data"
    }
   ],
   "source": [
    "# PLOTTING A GRAPH FOR GENRE COMEDY\n",
    "plt.plot(popularity_std.loc['Comedy']) \n",
    "plt.xlabel('year')\n",
    "plt.ylabel('popularity levels')\n",
    "plt.title('Distribution of popularity for the genre Comedy over the years')\n",
    "plt.axis([1960, 2015, 0, 3.5])\n",
    "plt.show()\n"
   ]
  },
  {
   "cell_type": "markdown",
   "metadata": {},
   "source": [
    "ANSWER 3-->  The above graph shows the rise and fall of the genre COMEDY over the years. \n",
    "There are steep rises and falls in the popularity levels of the genre. \n"
   ]
  },
  {
   "cell_type": "code",
   "execution_count": 29,
   "metadata": {},
   "outputs": [
    {
     "data": {
      "image/png": "[encoded data removed]",
      "text/plain": [
       "<Figure size 432x288 with 1 Axes>"
      ]
     },
     "metadata": {},
     "output_type": "display_data"
    }
   ],
   "source": [
    "plt.plot(popularity_std.loc['Drama']) \n",
    "plt.xlabel('year')\n",
    "plt.ylabel('popularity levels')\n",
    "plt.title('Distribution of popularity for the genre Drama over the years')\n",
    "plt.axis([1960, 2015, 0, 3.5])\n",
    "plt.show()"
   ]
  },
  {
   "cell_type": "code",
   "execution_count": 30,
   "metadata": {},
   "outputs": [
    {
     "data": {
      "image/png": "[encoded data removed]",
      "text/plain": [
       "<Figure size 432x288 with 1 Axes>"
      ]
     },
     "metadata": {},
     "output_type": "display_data"
    }
   ],
   "source": [
    "plt.plot(popularity_std.loc['Action']) \n",
    "plt.xlabel('year')\n",
    "plt.ylabel('popularity levels')\n",
    "plt.title('Distribution of popularity for the genre Action over the years')\n",
    "plt.axis([1960, 2015, 0, 3.5])\n",
    "plt.show()"
   ]
  },
  {
   "cell_type": "code",
   "execution_count": 31,
   "metadata": {},
   "outputs": [
    {
     "data": {
      "image/png": "[encoded data removed]",
      "text/plain": [
       "<Figure size 432x288 with 1 Axes>"
      ]
     },
     "metadata": {},
     "output_type": "display_data"
    }
   ],
   "source": [
    "plt.plot(popularity_std.loc['Thriller']) \n",
    "plt.xlabel('year')\n",
    "plt.ylabel('popularity levels')\n",
    "plt.title('Distribution of popularity for the genre Thriller over the years')\n",
    "plt.axis([1960, 2015, 0, 3.5])\n",
    "plt.show()"
   ]
  },
  {
   "cell_type": "code",
   "execution_count": 32,
   "metadata": {},
   "outputs": [
    {
     "data": {
      "image/png": "[encoded data removed]",
      "text/plain": [
       "<Figure size 432x288 with 1 Axes>"
      ]
     },
     "metadata": {},
     "output_type": "display_data"
    }
   ],
   "source": [
    "plt.plot(popularity_std.loc['Adventure']) \n",
    "plt.xlabel('year')\n",
    "plt.ylabel('popularity levels')\n",
    "plt.title('Distribution of popularity for the genre Adventure over the years')\n",
    "plt.axis([1960, 2015, 0, 3.5])\n",
    "plt.show()"
   ]
  },
  {
   "cell_type": "code",
   "execution_count": 33,
   "metadata": {},
   "outputs": [],
   "source": [
    "df_new = df.groupby('release_year').mean()"
   ]
  },
  {
   "cell_type": "code",
   "execution_count": 34,
   "metadata": {},
   "outputs": [
    {
     "data": {
      "text/plain": [
       "count     56.000000\n",
       "mean     105.705088\n",
       "std        5.522549\n",
       "min       96.044006\n",
       "25%      101.910776\n",
       "50%      105.678699\n",
       "75%      107.593247\n",
       "max      124.343750\n",
       "Name: runtime, dtype: float64"
      ]
     },
     "execution_count": 34,
     "metadata": {},
     "output_type": "execute_result"
    }
   ],
   "source": [
    "df_new['runtime'].describe()"
   ]
  },
  {
   "cell_type": "code",
   "execution_count": 35,
   "metadata": {},
   "outputs": [
    {
     "data": {
      "image/png": "[encoded data removed]",
      "text/plain": [
       "<Figure size 432x288 with 1 Axes>"
      ]
     },
     "metadata": {},
     "output_type": "display_data"
    }
   ],
   "source": [
    "df_new['popularity'].hist(bins=36)\n",
    "plt.xlabel('Popularity')\n",
    "plt.ylabel('Counts')\n",
    "plt.title('Popularity Over the Years');"
   ]
  },
  {
   "cell_type": "code",
   "execution_count": 36,
   "metadata": {},
   "outputs": [
    {
     "data": {
      "image/png": "[encoded data removed]",
      "text/plain": [
       "<Figure size 432x288 with 1 Axes>"
      ]
     },
     "metadata": {},
     "output_type": "display_data"
    }
   ],
   "source": [
    "df_new['revenue'].hist(bins=24)\n",
    "plt.xlabel('Revenue')\n",
    "plt.ylabel('Counts')\n",
    "plt.title('Revenue Over the Years');"
   ]
  },
  {
   "cell_type": "code",
   "execution_count": 37,
   "metadata": {},
   "outputs": [
    {
     "data": {
      "image/png": "[encoded data removed]",
      "text/plain": [
       "<Figure size 432x288 with 1 Axes>"
      ]
     },
     "metadata": {},
     "output_type": "display_data"
    }
   ],
   "source": [
    "plt.scatter(x=df_new['revenue'], y=df_new['vote_average'])\n",
    "plt.xlabel('Revenue')\n",
    "plt.ylabel('Vote Averages')\n",
    "plt.title('Revenue vs Vote Averages Over the Years');\n"
   ]
  },
  {
   "cell_type": "code",
   "execution_count": 38,
   "metadata": {},
   "outputs": [],
   "source": [
    "def find_top(dataframe_col, num=3):\n",
    "    # split the characters in the input column \n",
    "    #and make it to a list\n",
    "    alist = dataframe_col.str.cat(sep='|').split('|')\n",
    "    #transfer it to a dataframe\n",
    "    new = pd.DataFrame({'top' :alist})\n",
    "    #count their number of appeared times and\n",
    "    #choose the top3\n",
    "    top = new['top'].value_counts().head(num)\n",
    "    return top"
   ]
  },
  {
   "cell_type": "code",
   "execution_count": 39,
   "metadata": {},
   "outputs": [
    {
     "data": {
      "text/plain": [
       "array([1960, 1961, 1962, 1963, 1964, 1965, 1966, 1967, 1968, 1969, 1970,\n",
       "       1971, 1972, 1973, 1974, 1975, 1976, 1977, 1978, 1979, 1980, 1981,\n",
       "       1982, 1983, 1984, 1985, 1986, 1987, 1988, 1989, 1990, 1991, 1992,\n",
       "       1993, 1994, 1995, 1996, 1997, 1998, 1999, 2000, 2001, 2002, 2003,\n",
       "       2004, 2005, 2006, 2007, 2008, 2009, 2010, 2011, 2012, 2013, 2014,\n",
       "       2015], dtype=int64)"
      ]
     },
     "execution_count": 39,
     "metadata": {},
     "output_type": "execute_result"
    }
   ],
   "source": [
    "\n",
    "# sort the movie release year list.# sort th \n",
    "dfyear= df.release_year.unique()\n",
    "dfyear= np.sort(dfyear)\n",
    "dfyear"
   ]
  },
  {
   "cell_type": "code",
   "execution_count": 40,
   "metadata": {},
   "outputs": [],
   "source": [
    "y1960s =dfyear[:10]\n",
    "# year list of 1970s\n",
    "y1970s =dfyear[10:20]\n",
    "# year list of 1980s\n",
    "y1980s =dfyear[20:30]\n",
    "# year list of 1990s\n",
    "y1990s = dfyear[30:40]\n",
    "# year list of afer 2000\n",
    "y2000 = dfyear[40:]"
   ]
  },
  {
   "cell_type": "code",
   "execution_count": 41,
   "metadata": {},
   "outputs": [
    {
     "data": {
      "text/html": [
       "<div>\n",
       "<style scoped>\n",
       "    .dataframe tbody tr th:only-of-type {\n",
       "        vertical-align: middle;\n",
       "    }\n",
       "\n",
       "    .dataframe tbody tr th {\n",
       "        vertical-align: top;\n",
       "    }\n",
       "\n",
       "    .dataframe thead th {\n",
       "        text-align: right;\n",
       "    }\n",
       "</style>\n",
       "<table border=\"1\" class=\"dataframe\">\n",
       "  <thead>\n",
       "    <tr style=\"text-align: right;\">\n",
       "      <th></th>\n",
       "      <th>year</th>\n",
       "      <th>top</th>\n",
       "    </tr>\n",
       "  </thead>\n",
       "  <tbody>\n",
       "    <tr>\n",
       "      <th>Drama</th>\n",
       "      <td>1960s</td>\n",
       "      <td>168</td>\n",
       "    </tr>\n",
       "    <tr>\n",
       "      <th>Drama</th>\n",
       "      <td>1970s</td>\n",
       "      <td>239</td>\n",
       "    </tr>\n",
       "    <tr>\n",
       "      <th>Comedy</th>\n",
       "      <td>1980s</td>\n",
       "      <td>428</td>\n",
       "    </tr>\n",
       "    <tr>\n",
       "      <th>Drama</th>\n",
       "      <td>1990s</td>\n",
       "      <td>862</td>\n",
       "    </tr>\n",
       "    <tr>\n",
       "      <th>Drama</th>\n",
       "      <td>after2000</td>\n",
       "      <td>3068</td>\n",
       "    </tr>\n",
       "  </tbody>\n",
       "</table>\n",
       "</div>"
      ],
      "text/plain": [
       "             year   top\n",
       "Drama       1960s   168\n",
       "Drama       1970s   239\n",
       "Comedy      1980s   428\n",
       "Drama       1990s   862\n",
       "Drama   after2000  3068"
      ]
     },
     "execution_count": 41,
     "metadata": {},
     "output_type": "execute_result"
    }
   ],
   "source": [
    "times = [y1960s, y1970s, y1980s, y1990s, y2000]\n",
    "#generation name\n",
    "names = ['1960s', '1970s', '1980s', '1990s', 'after2000']\n",
    "#creat a empty dataframe,df_r3\n",
    "df_r3 = pd.DataFrame()\n",
    "index = 0\n",
    "#for each generation, do the following procedure\n",
    "for s in times:\n",
    "    # first filter dataframe with the selected generation, and store it to dfn\n",
    "    dfn = df[df.release_year.isin(s)] \n",
    "    #apply the find_top function with the selected frame, using the result create a dataframe, store it to dfn2 \n",
    "    dfn2 = pd.DataFrame({'year' :names[index],'top': find_top(dfn.genres,1)})\n",
    "     #append dfn2 to df_q2\n",
    "    df_r3 = df_r3.append(dfn2)\n",
    "    index +=1\n",
    "df_r3"
   ]
  },
  {
   "cell_type": "code",
   "execution_count": 42,
   "metadata": {},
   "outputs": [
    {
     "data": {
      "text/plain": [
       "Text(0.5,1,'Genres Trends by Generation')"
      ]
     },
     "execution_count": 42,
     "metadata": {},
     "output_type": "execute_result"
    },
    {
     "data": {
      "image/png": "[encoded data removed]",
      "text/plain": [
       "<Figure size 432x288 with 2 Axes>"
      ]
     },
     "metadata": {},
     "output_type": "display_data"
    }
   ],
   "source": [
    "generation = ['1960s', '1970s', '1980s', '1990s', 'after2000']\n",
    "genres = df_r3.index\n",
    "y_pos = np.arange(len(generation))\n",
    "fig, ax = plt.subplots()\n",
    "# Setting y1: the genre number\n",
    "y1 = df_r3.top\n",
    "# Setting y2 again to present the right-side y axis labels\n",
    "y2 = df_r3.top\n",
    "#plot the bar\n",
    "ax.barh(y_pos,y1, color = '#007482')\n",
    "#set the left side y axis ticks position\n",
    "ax.set_yticks(y_pos)\n",
    "#set the left side y axis tick label\n",
    "ax.set_yticklabels(genres)\n",
    "#set left side y axis label\n",
    "ax.set_ylabel('genres')\n",
    "\n",
    "#create another axis to present the right-side y axis labels\n",
    "ax2 = ax.twinx()\n",
    "#plot the bar\n",
    "ax2.barh(y_pos,y2, color = '#27b466')\n",
    "#set the right side y axis ticks position\n",
    "ax2.set_yticks(y_pos)\n",
    "#set the right side y axis tick label\n",
    "ax2.set_yticklabels(generation)\n",
    "#set right side y axis label\n",
    "ax2.set_ylabel('generation')\n",
    "#set title\n",
    "ax.set_title('Genres Trends by Generation')"
   ]
  },
  {
   "cell_type": "code",
   "execution_count": 43,
   "metadata": {},
   "outputs": [
    {
     "ename": "SyntaxError",
     "evalue": "invalid syntax (<ipython-input-43-5004cb348829>, line 1)",
     "output_type": "error",
     "traceback": [
      "\u001b[1;36m  File \u001b[1;32m\"<ipython-input-43-5004cb348829>\"\u001b[1;36m, line \u001b[1;32m1\u001b[0m\n\u001b[1;33m    The genre Drama are the most filmed in almost all generation. Only the 1980s are dominated by the comedy type.\u001b[0m\n\u001b[1;37m            ^\u001b[0m\n\u001b[1;31mSyntaxError\u001b[0m\u001b[1;31m:\u001b[0m invalid syntax\n"
     ]
    }
   ],
   "source": [
    "The genre Drama are the most filmed in almost all generation. Only the 1980s are dominated by the comedy type."
   ]
  },
  {
   "cell_type": "markdown",
   "metadata": {},
   "source": [
    "LIMITATIONS :\n",
    "\n",
    "The medium through which popularity was determined is unknown. This can impact the analysis as the limitations and bias inherent while gauging audience response will be present in the end values too.\n",
    "\n",
    "This analysis assumes that the same index and methods were employed for collecting popularity factors and counting votes for all movies. In the event that it is not so, the results might not hold true. \n",
    "\n",
    "While we did not have missing values for any of the factors under consideration, we acknowledge the presence of these limitations and assumptions in our analysis."
   ]
  },
  {
   "cell_type": "code",
   "execution_count": null,
   "metadata": {},
   "outputs": [],
   "source": [
    "CONCLUSION:\n",
    "\n",
    "Thus the most popular genre in most of the years is Drama. The above graphs show the popularity of each genre from 1960 to 2015. \n",
    "    "
   ]
  }
 ],
 "metadata": {
  "kernelspec": {
   "display_name": "Python 3",
   "language": "python",
   "name": "python3"
  },
  "language_info": {
   "codemirror_mode": {
    "name": "ipython",
    "version": 3
   },
   "file_extension": ".py",
   "mimetype": "text/x-python",
   "name": "python",
   "nbconvert_exporter": "python",
   "pygments_lexer": "ipython3",
   "version": "3.6.5"
  }
 },
 "nbformat": 4,
 "nbformat_minor": 2
}
